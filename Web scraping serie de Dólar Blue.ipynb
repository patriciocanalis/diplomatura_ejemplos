{
 "cells": [
  {
   "cell_type": "markdown",
   "id": "25675ffb-d3de-47e8-9119-219faa30d25c",
   "metadata": {},
   "source": [
    "# Web scraping serie de Dólar Blue"
   ]
  },
  {
   "cell_type": "markdown",
   "id": "9b4dbcf4-23e5-4438-9ecf-c2358c63cdc0",
   "metadata": {},
   "source": [
    "El código scrapea el dato de dólar blue de la página de de La Voz del Interior y lo almacena en un excel (serie_dolar.xlsx).\n",
    "Es necesario correrlo todos los días para agregar un nuevo valor a la serie."
   ]
  },
  {
   "cell_type": "code",
   "execution_count": 1,
   "id": "9cce04cc-8513-40dc-a8e5-5754dca5bf9b",
   "metadata": {},
   "outputs": [],
   "source": [
    "import pandas as pd\n",
    "import requests\n",
    "from bs4 import BeautifulSoup\n",
    "from datetime import date"
   ]
  },
  {
   "cell_type": "code",
   "execution_count": 2,
   "id": "6b25e2db-ac90-4beb-8913-d259c3fde81a",
   "metadata": {},
   "outputs": [],
   "source": [
    "# Obtener el contenido de la página y ubicar el valor del cuarto div (si no, \"Error\")\n",
    "try:\n",
    "    page = requests.get('https://www.lavoz.com.ar/')\n",
    "    soup = BeautifulSoup(page.content, 'html.parser')\n",
    "    cuarto_div = soup.find_all(\"div\", class_=\"dollar-value\")[3]\n",
    "    p_tag = cuarto_div.find(\"p\", class_=\"value\")\n",
    "    tags_list = list(p_tag.children)\n",
    "    valor = float(tags_list[2].strip('$').replace(',', '.'))\n",
    "except (IndexError, AttributeError, ValueError, requests.exceptions.RequestException):\n",
    "    valor = \"Error\""
   ]
  },
  {
   "cell_type": "code",
   "execution_count": 3,
   "id": "80466c69-9ce2-4f4c-83f8-8a5168523945",
   "metadata": {},
   "outputs": [],
   "source": [
    "# Crear un nuevo DataFrame con la fecha de hoy más el valor\n",
    "fecha = date.today().strftime('%d/%m/%Y')\n",
    "nuevo_renglon = pd.DataFrame({'Fecha': [fecha], 'Valor': [valor]})\n",
    "\n",
    "# Leer un Excel existente y almacenarlo en un DataFrame\n",
    "df = pd.read_excel('serie_dolar.xlsx')\n",
    "\n",
    "# Unir ambos DataFrames\n",
    "df = pd.concat([df, nuevo_renglon], ignore_index=True)\n",
    "\n",
    "# Guardar el resultado en el mismo Excel importado\n",
    "writer = pd.ExcelWriter(\"serie_dolar.xlsx\", engine='xlsxwriter')\n",
    "df.to_excel(writer, sheet_name='Sheet1', index=False)\n",
    "writer.save()"
   ]
  },
  {
   "cell_type": "code",
   "execution_count": null,
   "id": "c712abf8-9921-440c-a9cf-766de8ffbb8d",
   "metadata": {},
   "outputs": [],
   "source": []
  }
 ],
 "metadata": {
  "kernelspec": {
   "display_name": "Python 3 (ipykernel)",
   "language": "python",
   "name": "python3"
  },
  "language_info": {
   "codemirror_mode": {
    "name": "ipython",
    "version": 3
   },
   "file_extension": ".py",
   "mimetype": "text/x-python",
   "name": "python",
   "nbconvert_exporter": "python",
   "pygments_lexer": "ipython3",
   "version": "3.9.13"
  }
 },
 "nbformat": 4,
 "nbformat_minor": 5
}
