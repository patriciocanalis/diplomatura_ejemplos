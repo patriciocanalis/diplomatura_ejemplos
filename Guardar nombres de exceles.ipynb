{
 "cells": [
  {
   "cell_type": "markdown",
   "id": "ec94b719-350a-47a6-a0f2-73fc2d6c07f3",
   "metadata": {},
   "source": [
    "# Guardar nombres de excels"
   ]
  },
  {
   "cell_type": "markdown",
   "id": "300446cf-ca8b-44c2-b237-d0cad2f5af8d",
   "metadata": {},
   "source": [
    "El objetivo del código es listar los nombres de los excels de una carpeta (Países) y matchearle una región (del excel regiones)."
   ]
  },
  {
   "cell_type": "code",
   "execution_count": 16,
   "id": "b57431c5-0f26-4e54-8e05-0093d2af59a1",
   "metadata": {},
   "outputs": [],
   "source": [
    "import os\n",
    "import pandas as pd"
   ]
  },
  {
   "cell_type": "code",
   "execution_count": 17,
   "id": "b7149f1e-8487-48fe-8ceb-afec352abedb",
   "metadata": {},
   "outputs": [],
   "source": [
    "# Directorio con los excels\n",
    "directorio = 'Países'\n",
    "\n",
    "# Lista con los nombres de los excels\n",
    "excels = [archivo for archivo in os.listdir(directorio) if archivo.endswith('.xlsx')]\n",
    "\n",
    "# DataFrame con los nombres de los excels\n",
    "archivos = pd.DataFrame({'Country': excels})\n",
    "\n",
    "# Eliminar la extensión \".xlsx\"\n",
    "archivos['Country'] = archivos['Country'].str.replace('.xlsx', '', regex=False)"
   ]
  },
  {
   "cell_type": "code",
   "execution_count": 18,
   "id": "cfda2d1c-c8b1-4547-90e9-80cea603b818",
   "metadata": {},
   "outputs": [],
   "source": [
    "# Importar el excel regiones y guardarlo en un DataFrame\n",
    "regiones = pd.read_excel('regiones.xlsx')"
   ]
  },
  {
   "cell_type": "code",
   "execution_count": 19,
   "id": "c9ec4886-05c8-4535-a918-e51de251e738",
   "metadata": {},
   "outputs": [
    {
     "name": "stdout",
     "output_type": "stream",
     "text": [
      "No se encontraron duplicados\n"
     ]
    }
   ],
   "source": [
    "# Identificar duplicados en archivos\n",
    "duplicados_archivos = archivos[archivos.duplicated(['Country'], keep=False)]\n",
    "if duplicados_archivos.empty:\n",
    "    print(\"No se encontraron duplicados\")\n",
    "else:\n",
    "    print(\"Los siguientes casos están duplicados:\")\n",
    "    print(duplicados_archivos['Country'])"
   ]
  },
  {
   "cell_type": "code",
   "execution_count": 20,
   "id": "1557a5bc-e84c-44b2-97aa-96629161c404",
   "metadata": {},
   "outputs": [
    {
     "name": "stdout",
     "output_type": "stream",
     "text": [
      "No se encontraron duplicados\n"
     ]
    }
   ],
   "source": [
    "# Identificar duplicados en regiones\n",
    "duplicados_regiones = regiones[regiones.duplicated(['Country'], keep=False)]\n",
    "if duplicados_regiones.empty:\n",
    "    print(\"No se encontraron duplicados\")\n",
    "else:\n",
    "    print(\"Los siguientes casos están duplicados:\")\n",
    "    print(duplicados_regiones['Country'])"
   ]
  },
  {
   "cell_type": "code",
   "execution_count": 21,
   "id": "0da02cfb-ad4b-47f3-a201-a8eb668c9b94",
   "metadata": {},
   "outputs": [],
   "source": [
    "# Matchear la región\n",
    "archivos = pd.merge(archivos, regiones, on='Country', how='left')"
   ]
  },
  {
   "cell_type": "code",
   "execution_count": 22,
   "id": "8b33467a-fb0e-4c87-bbf7-6a68ad5a61b1",
   "metadata": {},
   "outputs": [
    {
     "name": "stdout",
     "output_type": "stream",
     "text": [
      "       Country                            Region\n",
      "0    Argentina                     Latin America\n",
      "1       Brazil                     Latin America\n",
      "2       Canada  North America and Western Europe\n",
      "3      Germany  North America and Western Europe\n",
      "4  Puerto Rico                         Caribbean\n"
     ]
    }
   ],
   "source": [
    "print(archivos)"
   ]
  },
  {
   "cell_type": "code",
   "execution_count": null,
   "id": "316dd1c3-176e-4525-a644-009299369531",
   "metadata": {},
   "outputs": [],
   "source": []
  }
 ],
 "metadata": {
  "kernelspec": {
   "display_name": "Python 3 (ipykernel)",
   "language": "python",
   "name": "python3"
  },
  "language_info": {
   "codemirror_mode": {
    "name": "ipython",
    "version": 3
   },
   "file_extension": ".py",
   "mimetype": "text/x-python",
   "name": "python",
   "nbconvert_exporter": "python",
   "pygments_lexer": "ipython3",
   "version": "3.9.13"
  }
 },
 "nbformat": 4,
 "nbformat_minor": 5
}
