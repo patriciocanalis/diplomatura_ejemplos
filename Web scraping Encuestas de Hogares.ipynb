{
 "cells": [
  {
   "cell_type": "markdown",
   "id": "071b0a95-4518-46d2-8595-f7e335a42929",
   "metadata": {},
   "source": [
    "# Web scraping Encuestas de Hogares"
   ]
  },
  {
   "cell_type": "markdown",
   "id": "d6810260-da55-4134-bd02-3a919bf824ae",
   "metadata": {},
   "source": [
    "El código scrapea la página web del catálogo de encuestas IHSN y guarda en un excel cada encuesta (posterior o igual a 2015) con su año, país y fuente.\n",
    "En este ejemplo se limitó el ejercicio a 10 páginas para evitar demoras en la ejecución."
   ]
  },
  {
   "cell_type": "code",
   "execution_count": 117,
   "id": "fe28e187-240c-4fb8-9815-37c34f3be739",
   "metadata": {},
   "outputs": [],
   "source": [
    "import requests\n",
    "from bs4 import BeautifulSoup\n",
    "import pandas as pd"
   ]
  },
  {
   "cell_type": "code",
   "execution_count": 118,
   "id": "d42160a0-4678-44bf-b236-0f69736f307b",
   "metadata": {},
   "outputs": [],
   "source": [
    "# Crear un DataFrame vacío\n",
    "hoja = pd.DataFrame(columns=['Encuesta', 'País', 'Fuente'])"
   ]
  },
  {
   "cell_type": "code",
   "execution_count": 119,
   "id": "9aa0eaa3-7de0-4d2a-8ee4-53215209da80",
   "metadata": {},
   "outputs": [],
   "source": [
    "# Obtener las encuestas de las 10 primeras páginas\n",
    "for pagina in range(1, 10):\n",
    "    page = requests.get(f'http://catalog.ihsn.org/catalog/?page={pagina}&ps=15')\n",
    "    soup = BeautifulSoup(page.text, 'html.parser')\n",
    "    encuestas = soup.find_all('div', {'class': 'col-md-12'})\n",
    "    \n",
    "    for encuesta in encuestas:\n",
    "        Encuesta = encuesta.find('h5', {'class': 'wb-card-title title'})\n",
    "        País = encuesta.find('div', {'class': 'study-country'})\n",
    "        Fuente = encuesta.find('div', {'class': 'sub-title'})\n",
    "\n",
    "        if Encuesta and País and Fuente:\n",
    "            hoja = pd.concat([hoja, pd.DataFrame({'Encuesta': [Encuesta.text.strip()], 'País': [País.text.strip().rstrip(',')], 'Fuente': [Fuente.text.strip()]})], ignore_index=True)"
   ]
  },
  {
   "cell_type": "code",
   "execution_count": 120,
   "id": "a90c32d9-912f-4f7d-a0cd-63d6c45155e1",
   "metadata": {},
   "outputs": [],
   "source": [
    "# Separar la columna \"País\" en \"País\" y \"Año\"\n",
    "hoja[['País', 'Año']] = hoja['País'].str.split('     ', n=1, expand=True)\n",
    "\n",
    "# Eliminar espacios de la columna \"Año\"\n",
    "hoja['Año'] = hoja['Año'].str.replace(' ', '')\n",
    "\n",
    "# Eliminar coma al final del valor de la columna \"País\"\n",
    "hoja['País'] = hoja['País'].str.rstrip(',')\n",
    "\n",
    "#Filtrar los años posteriores o iguales a 2015\n",
    "hoja = hoja[hoja['Año'].str.contains('2015|2016|2017|2018|2019|2020|2021|2022|2023', na=False)]\n",
    "\n",
    "# Eliminar duplicados\n",
    "hoja.drop_duplicates(inplace=True)\n",
    "\n",
    "# Reordenar las columnas\n",
    "hoja = hoja[['Encuesta', 'País', 'Año', 'Fuente']]\n",
    "\n",
    "# Ordenar casos por País, luego Año y luego Encuesta\n",
    "hoja = hoja.sort_values(['País', 'Año', 'Encuesta'])"
   ]
  },
  {
   "cell_type": "code",
   "execution_count": 121,
   "id": "6e0d4719-325c-45dc-988c-45f46d253762",
   "metadata": {},
   "outputs": [],
   "source": [
    "# Guardar el DataFrame en un Excel\n",
    "hoja.to_excel('encuestas.xlsx', index=False)"
   ]
  },
  {
   "cell_type": "code",
   "execution_count": null,
   "id": "19fc0f6c-2445-41ae-9f7d-777f10edf00a",
   "metadata": {},
   "outputs": [],
   "source": []
  }
 ],
 "metadata": {
  "kernelspec": {
   "display_name": "Python 3 (ipykernel)",
   "language": "python",
   "name": "python3"
  },
  "language_info": {
   "codemirror_mode": {
    "name": "ipython",
    "version": 3
   },
   "file_extension": ".py",
   "mimetype": "text/x-python",
   "name": "python",
   "nbconvert_exporter": "python",
   "pygments_lexer": "ipython3",
   "version": "3.9.13"
  }
 },
 "nbformat": 4,
 "nbformat_minor": 5
}
